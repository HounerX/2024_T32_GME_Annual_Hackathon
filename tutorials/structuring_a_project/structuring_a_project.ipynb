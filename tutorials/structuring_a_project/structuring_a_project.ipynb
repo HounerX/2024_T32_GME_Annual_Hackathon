{
 "cells": [
  {
   "cell_type": "markdown",
   "id": "ed91b5a9-b7a4-4262-859e-3f5b5f2cabe4",
   "metadata": {},
   "source": [
    "# Structuring a project\n",
    "\n",
    "Before starting any new coding project, taking some time to appropriately structure your coding environment will save you headaches in the future."
   ]
  },
  {
   "cell_type": "code",
   "execution_count": null,
   "id": "979ef48d-6b39-444c-bf96-c8c8a81dae5c",
   "metadata": {},
   "outputs": [],
   "source": []
  },
  {
   "cell_type": "markdown",
   "id": "46fa0a23-6d57-4e19-9c5b-cb06ec783a39",
   "metadata": {},
   "source": [
    "## Setting up github repo"
   ]
  },
  {
   "cell_type": "markdown",
   "id": "2a73c96a-3a7c-4df4-ba61-83c38a068e0e",
   "metadata": {},
   "source": [
    "## Virtual environments"
   ]
  },
  {
   "cell_type": "markdown",
   "id": "5e6fa9bc-611d-4c22-bb85-3a59fc927e6e",
   "metadata": {},
   "source": [
    "### R"
   ]
  },
  {
   "cell_type": "markdown",
   "id": "257624ed-c368-4b05-82de-2a4c7cedc3cd",
   "metadata": {},
   "source": [
    "### Python"
   ]
  },
  {
   "cell_type": "markdown",
   "id": "ed159acb-0808-4f34-9802-070a0f07e8c7",
   "metadata": {},
   "source": [
    "## Workflow management"
   ]
  },
  {
   "cell_type": "code",
   "execution_count": null,
   "id": "59847a55-5a8c-4786-9517-feecea9f5d05",
   "metadata": {},
   "outputs": [],
   "source": []
  }
 ],
 "metadata": {
  "kernelspec": {
   "display_name": "Python 3 (ipykernel)",
   "language": "python",
   "name": "python3"
  },
  "language_info": {
   "codemirror_mode": {
    "name": "ipython",
    "version": 3
   },
   "file_extension": ".py",
   "mimetype": "text/x-python",
   "name": "python",
   "nbconvert_exporter": "python",
   "pygments_lexer": "ipython3",
   "version": "3.11.7"
  }
 },
 "nbformat": 4,
 "nbformat_minor": 5
}
