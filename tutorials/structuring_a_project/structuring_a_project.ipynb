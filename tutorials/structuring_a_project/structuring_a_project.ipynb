{
 "cells": [
  {
   "cell_type": "markdown",
   "id": "ed91b5a9-b7a4-4262-859e-3f5b5f2cabe4",
   "metadata": {},
   "source": [
    "# Structuring a project\n",
    "\n",
    "Before starting any new coding project, taking some time to appropriately structure your coding environment **WILL** save you headaches in the future!\n",
    "\n",
    "Let's work through **four** concrete aspects of structuring your project:\n",
    "\n",
    "1. Version control\n",
    "2. Folder/Directory Structure\n",
    "3. Tracking dependencies\n",
    "4. Workflow management\n",
    "\n",
    "One last point. There are **MAAANY** different ways to do the above. For example, [workflowr]{https://github.com/workflowr/workflowr} is a framework developed at UChicago. It combines git (version control), with its own enforced directory structure to keep the user's R analysis project organized.\n",
    "\n",
    "The goal here is not to pidgeon-hole you into using a prebuilt framework. Instead, I will encourage you all to structure things **yourself**. This will develop good organizational habits, and if done correctly will make it **trivial** to port your code to frameworks like workflowr, snakemake, etc. when the time is right. "
   ]
  },
  {
   "cell_type": "markdown",
   "id": "46fa0a23-6d57-4e19-9c5b-cb06ec783a39",
   "metadata": {},
   "source": [
    "## Setting up a github repo for source control\n",
    "\n",
    "Git is a widely used open-source version control software. Almost all major open-source projects are hosted on github, a website which provides a nice interface to git repositories. Git itself can be a little bit cumbersome and confusing. If you really want to be an expert, I recommend reading [git book]{https://git-scm.com/book/en/v2}. \n",
    "\n",
    "\n",
    "\n",
    "Hopefully you have already followed the [pre-hackathon setup] instructions to obtain a forked version of the \"2024_T32_GME_Annual_Hackathon\" repository. This will be the home of the code you write during the hackathon. \n",
    "\n",
    "\n",
    "\n",
    "Make sure to make your code commits regularly, and push to github so they will be safe in the cloud! \n"
   ]
  },
  {
   "cell_type": "markdown",
   "id": "2a73c96a-3a7c-4df4-ba61-83c38a068e0e",
   "metadata": {},
   "source": [
    "## Setting up a directory structure\n",
    "\n",
    "Choosing how to organize \n",
    "\n",
    "![seurat directory structure](seurat_folders.png \"Title\")"
   ]
  },
  {
   "cell_type": "markdown",
   "id": "5e6fa9bc-611d-4c22-bb85-3a59fc927e6e",
   "metadata": {},
   "source": [
    "### R"
   ]
  },
  {
   "cell_type": "markdown",
   "id": "257624ed-c368-4b05-82de-2a4c7cedc3cd",
   "metadata": {},
   "source": [
    "### Python"
   ]
  },
  {
   "cell_type": "markdown",
   "id": "ed159acb-0808-4f34-9802-070a0f07e8c7",
   "metadata": {},
   "source": [
    "## Workflow management"
   ]
  },
  {
   "cell_type": "code",
   "execution_count": null,
   "id": "59847a55-5a8c-4786-9517-feecea9f5d05",
   "metadata": {},
   "outputs": [],
   "source": []
  }
 ],
 "metadata": {
  "kernelspec": {
   "display_name": "Python 3 (ipykernel)",
   "language": "python",
   "name": "python3"
  },
  "language_info": {
   "codemirror_mode": {
    "name": "ipython",
    "version": 3
   },
   "file_extension": ".py",
   "mimetype": "text/x-python",
   "name": "python",
   "nbconvert_exporter": "python",
   "pygments_lexer": "ipython3",
   "version": "3.11.7"
  }
 },
 "nbformat": 4,
 "nbformat_minor": 5
}
